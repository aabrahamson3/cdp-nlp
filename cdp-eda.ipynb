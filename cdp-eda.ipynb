{
 "cells": [
  {
   "cell_type": "code",
   "execution_count": 1,
   "metadata": {},
   "outputs": [],
   "source": [
    "import pandas as pd\n",
    "from cdptools import CDPInstance, configs"
   ]
  },
  {
   "cell_type": "code",
   "execution_count": 2,
   "metadata": {},
   "outputs": [],
   "source": [
    "seattle = CDPInstance(configs.SEATTLE)"
   ]
  },
  {
   "cell_type": "code",
   "execution_count": 6,
   "metadata": {},
   "outputs": [],
   "source": [
    "# how to search for events\n",
    "matching_events = seattle.database.search_events(\"bicycle infrastructure\")\n",
    "matching_events[0].data"
   ]
  },
  {
   "cell_type": "code",
   "execution_count": 12,
   "metadata": {},
   "outputs": [],
   "source": [
    "# search for bills/appointments/minute items\n",
    "matching_minutes_items = seattle.database.search_minutes_items(\"bicycle infrastructure\")"
   ]
  },
  {
   "cell_type": "code",
   "execution_count": 26,
   "metadata": {},
   "outputs": [
    {
     "data": {
      "text/plain": [
       "{'minutes_item_id': 'e79ee511-3bc8-4ec0-addd-8d02a41cf255',\n",
       " 'matter': 'Res 31893',\n",
       " 'legistar_event_item_id': 66005,\n",
       " 'name': 'A RESOLUTION relating to taxation; stating an intent to adopt legislation imposing a local sales and use tax at the maximum rate authorized to fund investments in affordable and supportive housing.',\n",
       " 'created': datetime.datetime(2019, 8, 8, 8, 13, 22, 265059)}"
      ]
     },
     "execution_count": 26,
     "metadata": {},
     "output_type": "execute_result"
    }
   ],
   "source": [
    "matching_minutes_items[100].data"
   ]
  },
  {
   "cell_type": "code",
   "execution_count": 27,
   "metadata": {},
   "outputs": [
    {
     "name": "stderr",
     "output_type": "stream",
     "text": [
      "//anaconda3/envs/sklearn-env/lib/python3.7/site-packages/cdptools/research_utils/transcripts.py:188: UserWarning: DataFrame columns are not unique, some columns will be omitted.\n",
      "  for transcript_details in selected_transcripts.to_dict(\"records\"):\n"
     ]
    }
   ],
   "source": [
    "event_corpus_map = seattle.download_transcripts()"
   ]
  },
  {
   "cell_type": "code",
   "execution_count": 29,
   "metadata": {},
   "outputs": [
    {
     "data": {
      "text/plain": [
       "316"
      ]
     },
     "execution_count": 29,
     "metadata": {},
     "output_type": "execute_result"
    }
   ],
   "source": [
    "event_corpus_map"
   ]
  },
  {
   "cell_type": "code",
   "execution_count": null,
   "metadata": {},
   "outputs": [],
   "source": []
  }
 ],
 "metadata": {
  "kernelspec": {
   "display_name": "Python (sklearn-env)",
   "language": "python",
   "name": "sklearn-env"
  },
  "language_info": {
   "codemirror_mode": {
    "name": "ipython",
    "version": 3
   },
   "file_extension": ".py",
   "mimetype": "text/x-python",
   "name": "python",
   "nbconvert_exporter": "python",
   "pygments_lexer": "ipython3",
   "version": "3.7.3"
  }
 },
 "nbformat": 4,
 "nbformat_minor": 2
}
